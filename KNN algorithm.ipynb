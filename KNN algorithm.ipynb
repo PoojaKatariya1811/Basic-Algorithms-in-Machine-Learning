{
 "cells": [
  {
   "cell_type": "markdown",
   "metadata": {},
   "source": [
    "# K-nearest neighbors classification"
   ]
  },
  {
   "cell_type": "code",
   "execution_count": 45,
   "metadata": {},
   "outputs": [],
   "source": [
    "from __future__ import print_function\n",
    "\n",
    "import numpy as np\n",
    "from sklearn import datasets, neighbors, linear_model, tree\n",
    "from sklearn.decomposition import PCA as RandomizedPCA\n",
    "from sklearn.neighbors import KNeighborsClassifier\n",
    "from sklearn.datasets import load_iris, fetch_olivetti_faces\n",
    "from sklearn.model_selection import train_test_split\n",
    "\n",
    "from sklearn.metrics import classification_report\n",
    "from sklearn.metrics import confusion_matrix\n",
    "import matplotlib.pyplot as plt\n",
    "from time import time"
   ]
  },
  {
   "cell_type": "markdown",
   "metadata": {},
   "source": [
    "### Prepare data "
   ]
  },
  {
   "cell_type": "code",
   "execution_count": 46,
   "metadata": {},
   "outputs": [],
   "source": [
    "iris = load_iris()\n",
    "X = iris.data[:,:2] #Choosing only the first two input-features\n",
    "Y = iris.target\n",
    "\n",
    "number_of_samples = len(Y)\n",
    "'''\n",
    "#Splitting into training and test sets\n",
    "random_indices = np.random.permutation(number_of_samples)\n",
    "#Training set\n",
    "num_training_samples = int(number_of_samples*0.75)\n",
    "x_train = X[random_indices[:num_training_samples]]\n",
    "y_train = Y[random_indices[:num_training_samples]]\n",
    "#Test set\n",
    "x_test = X[random_indices[num_training_samples:]]\n",
    "y_test = Y[random_indices[num_training_samples:]]\n",
    "'''\n",
    "x_train, x_test, y_train, y_test = train_test_split(X,Y, test_size=0.25, random_state=number_of_samples)"
   ]
  },
  {
   "cell_type": "code",
   "execution_count": 47,
   "metadata": {},
   "outputs": [
    {
     "name": "stdout",
     "output_type": "stream",
     "text": [
      "[4.8 3.1] 0\n",
      "[5.2 3.5] 0\n",
      "[4.6 3.2] 0\n",
      "[4.5 2.3] 0\n",
      "[5.5 2.6] 1\n",
      "[5.5 4.2] 0\n",
      "[6.7 3. ] 2\n",
      "[5.7 2.6] 1\n",
      "[5.  3.5] 0\n",
      "[5.4 3.4] 0\n",
      "[4.9 3.1] 0\n",
      "[4.8 3.4] 0\n",
      "[6.3 3.4] 2\n",
      "[5.7 2.5] 2\n",
      "[5.2 4.1] 0\n",
      "[6.  2.2] 2\n",
      "[6.  2.9] 1\n",
      "[7.2 3.2] 2\n",
      "[4.6 3.1] 0\n",
      "[5.7 2.9] 1\n",
      "[5.8 2.7] 1\n",
      "[6.7 3.1] 1\n",
      "[4.6 3.4] 0\n",
      "[7.7 2.6] 2\n",
      "[6.4 2.7] 2\n",
      "[6.8 3.2] 2\n",
      "[5.6 2.5] 1\n",
      "[7.2 3. ] 2\n",
      "[6.7 3.1] 2\n",
      "[6.  2.2] 1\n",
      "[5.7 2.8] 1\n",
      "[6.7 3.1] 1\n",
      "[6.2 2.9] 1\n",
      "[5.1 3.4] 0\n",
      "[5.1 2.5] 1\n",
      "[4.9 2.4] 1\n",
      "[6.1 2.8] 1\n",
      "[6.4 3.2] 1\n",
      "[6.7 3. ] 1\n",
      "[5.9 3. ] 2\n",
      "[5.6 2.7] 1\n",
      "[4.7 3.2] 0\n",
      "[6.9 3.2] 2\n",
      "[6.3 3.3] 1\n",
      "[5.  3.6] 0\n",
      "[4.9 3.1] 0\n",
      "[4.9 3.6] 0\n",
      "[4.9 3. ] 0\n",
      "[5.1 3.8] 0\n",
      "[4.9 2.5] 2\n",
      "[6.2 3.4] 2\n",
      "[4.6 3.6] 0\n",
      "[7.1 3. ] 2\n",
      "[5.6 3. ] 1\n",
      "[5.7 3.8] 0\n",
      "[4.8 3.4] 0\n",
      "[6.6 2.9] 1\n",
      "[5.5 2.5] 1\n",
      "[5.9 3. ] 1\n",
      "[6.4 3.2] 2\n",
      "[6.4 2.8] 2\n",
      "[5.1 3.5] 0\n",
      "[5.4 3.9] 0\n",
      "[5.4 3.7] 0\n",
      "[6.3 2.8] 2\n",
      "[5.9 3.2] 1\n",
      "[6.8 3. ] 2\n",
      "[6.3 2.5] 2\n",
      "[6.2 2.8] 2\n",
      "[7.3 2.9] 2\n",
      "[5.5 2.4] 1\n",
      "[6.3 2.7] 2\n",
      "[5.1 3.8] 0\n",
      "[6.5 3. ] 2\n",
      "[7.7 2.8] 2\n",
      "[6.6 3. ] 1\n",
      "[5.7 4.4] 0\n",
      "[6.2 2.2] 1\n",
      "[5.7 3. ] 1\n",
      "[5.  3.4] 0\n",
      "[4.8 3. ] 0\n",
      "[6.1 3. ] 2\n",
      "[5.7 2.8] 1\n",
      "[6.3 2.9] 2\n",
      "[5.8 2.7] 1\n",
      "[7.4 2.8] 2\n",
      "[5.1 3.8] 0\n",
      "[5.6 2.9] 1\n",
      "[6.4 2.9] 1\n",
      "[7.7 3. ] 2\n",
      "[6.5 3.2] 2\n",
      "[4.8 3. ] 0\n",
      "[5.1 3.3] 0\n",
      "[6.7 2.5] 2\n",
      "[4.4 3. ] 0\n",
      "[5.  3.4] 0\n",
      "[5.6 2.8] 2\n",
      "[5.  2.3] 1\n",
      "[5.5 2.4] 1\n",
      "[6. 3.] 2\n",
      "[6.5 3. ] 2\n",
      "[5.1 3.5] 0\n",
      "[5.  3.3] 0\n",
      "[5.8 4. ] 0\n",
      "[6.5 3. ] 2\n",
      "[7.6 3. ] 2\n",
      "[5.8 2.6] 1\n",
      "[5.8 2.7] 2\n",
      "[5.8 2.7] 2\n",
      "[6.3 3.3] 2\n",
      "[7.  3.2] 1\n",
      "[5. 3.] 0\n"
     ]
    }
   ],
   "source": [
    "#Visualizing the training data\n",
    "X_class0 = np.asarray([x_train[i] for i in range(len(x_train)) if y_train[i]==0]) #Picking only the first two classes\n",
    "Y_class0 = np.zeros((X_class0.shape[0]),dtype=np.int)\n",
    "X_class1 = np.asarray([x_train[i] for i in range(len(x_train)) if y_train[i]==1])\n",
    "Y_class1 = np.ones((X_class1.shape[0]),dtype=np.int)\n",
    "X_class2 = np.asarray([x_train[i] for i in range(len(x_train)) if y_train[i]==2])\n",
    "Y_class2 = np.full((X_class2.shape[0]),fill_value=2,dtype=np.int)\n",
    "for i in range(len(x_train)):\n",
    "    print(x_train[i],y_train[i])"
   ]
  },
  {
   "cell_type": "code",
   "execution_count": 48,
   "metadata": {},
   "outputs": [
    {
     "data": {
      "image/png": "[encoded data removed]",
      "text/plain": [
       "<Figure size 432x288 with 1 Axes>"
      ]
     },
     "metadata": {
      "needs_background": "light"
     },
     "output_type": "display_data"
    }
   ],
   "source": [
    "plt.scatter(X_class0[:,0], X_class0[:,1],color='red')\n",
    "plt.scatter(X_class1[:,0], X_class1[:,1],color='blue')\n",
    "plt.scatter(X_class2[:,0], X_class2[:,1],color='green')\n",
    "plt.xlabel('sepal length')\n",
    "plt.ylabel('sepal width')\n",
    "plt.legend(['class 0','class 1','class 2'])\n",
    "plt.title('Fig 1: Visualization of training data')\n",
    "plt.show()"
   ]
  },
  {
   "cell_type": "code",
   "execution_count": 50,
   "metadata": {},
   "outputs": [
    {
     "data": {
      "text/plain": [
       "KNeighborsClassifier(algorithm='auto', leaf_size=30, metric='minkowski',\n",
       "                     metric_params=None, n_jobs=None, n_neighbors=5, p=2,\n",
       "                     weights='uniform')"
      ]
     },
     "execution_count": 50,
     "metadata": {},
     "output_type": "execute_result"
    }
   ],
   "source": [
    "model = neighbors.KNeighborsClassifier(n_neighbors = 5) # K = 5\n",
    "model.fit(x_train, y_train)"
   ]
  },
  {
   "cell_type": "code",
   "execution_count": 51,
   "metadata": {},
   "outputs": [
    {
     "name": "stdout",
     "output_type": "stream",
     "text": [
      "Query point: [5.5 2.8]\n",
      "True class of query point: 1\n"
     ]
    }
   ],
   "source": [
    "query_point = np.array([5.5,2.8])\n",
    "true_class_of_query_point = 1\n",
    "predicted_class_for_query_point = model.predict([query_point])\n",
    "print(\"Query point: {}\".format(query_point))\n",
    "print(\"True class of query point: {}\".format(true_class_of_query_point))"
   ]
  },
  {
   "cell_type": "markdown",
   "metadata": {},
   "source": [
    "Visualize the point and its K=5 nearest neighbors."
   ]
  },
  {
   "cell_type": "code",
   "execution_count": 53,
   "metadata": {},
   "outputs": [
    {
     "name": "stdout",
     "output_type": "stream",
     "text": [
      "The query point is: [5.5 2.8]\n",
      "\n",
      "The nearest neighbors of the query point are:\n",
      " [[5.6 2.8]\n",
      " [5.6 2.7]\n",
      " [5.6 2.9]\n",
      " [5.5 2.6]\n",
      " [5.7 2.8]]\n",
      "\n",
      "The classes of the nearest neighbors are: [2 1 1 1 1]\n",
      "\n",
      "Predicted class for query point: 1\n"
     ]
    },
    {
     "data": {
      "image/png": "[encoded data removed]",
      "text/plain": [
       "<Figure size 432x288 with 1 Axes>"
      ]
     },
     "metadata": {
      "needs_background": "light"
     },
     "output_type": "display_data"
    }
   ],
   "source": [
    "neighbors_object = neighbors.NearestNeighbors(n_neighbors=5)\n",
    "neighbors_object.fit(x_train)\n",
    "distances_of_nearest_neighbors, indices_of_nearest_neighbors_of_query_point = neighbors_object.kneighbors([query_point])\n",
    "nearest_neighbors_of_query_point = x_train[indices_of_nearest_neighbors_of_query_point[0]]\n",
    "print(\"The query point is: {}\\n\".format(query_point))\n",
    "print(\"The nearest neighbors of the query point are:\\n {}\\n\".format(nearest_neighbors_of_query_point))\n",
    "print(\"The classes of the nearest neighbors are: {}\\n\".format(y_train[indices_of_nearest_neighbors_of_query_point[0]]))\n",
    "print(\"Predicted class for query point: {}\".format(predicted_class_for_query_point[0]))\n",
    "\n",
    "plt.scatter(X_class0[:,0], X_class0[:,1],color='red')\n",
    "plt.scatter(X_class1[:,0], X_class1[:,1],color='blue')\n",
    "plt.scatter(X_class2[:,0], X_class2[:,1],color='green')\n",
    "plt.scatter(query_point[0], query_point[1],marker='^',s=75,color='black')\n",
    "plt.scatter(nearest_neighbors_of_query_point[:,0], nearest_neighbors_of_query_point[:,1],marker='s',s=150,color='Grey',alpha=0.30)\n",
    "plt.xlabel('sepal length')\n",
    "plt.ylabel('sepal width')\n",
    "plt.legend(['class 0','class 1','class 2'])\n",
    "plt.title('Fig 2: Working of the K-NN classification algorithm')\n",
    "plt.show()"
   ]
  },
  {
   "cell_type": "markdown",
   "metadata": {},
   "source": [
    "Notice that points in grey are 5 nearest points to the given point (5.5, 2.8)."
   ]
  },
  {
   "cell_type": "code",
   "execution_count": 56,
   "metadata": {},
   "outputs": [],
   "source": [
    "def evaluate_performance(model, x_test, y_test):\n",
    "    test_set_predictions = [model.predict(x_test[i].reshape((1,len(x_test[i]))))[0] for i in range(x_test.shape[0])]\n",
    "    test_misclassification_percentage = 0\n",
    "    for i in range(len(test_set_predictions)):\n",
    "        if test_set_predictions[i]!=y_test[i]:\n",
    "            test_misclassification_percentage+=1\n",
    "    test_misclassification_percentage *= 100/len(y_test)\n",
    "    return test_misclassification_percentage"
   ]
  },
  {
   "cell_type": "code",
   "execution_count": 57,
   "metadata": {},
   "outputs": [
    {
     "name": "stdout",
     "output_type": "stream",
     "text": [
      "Evaluating K-NN classifier:\n",
      "test misclassification percentage = 18.42105263157895%\n"
     ]
    }
   ],
   "source": [
    "#Evaluate the performances on the validation and test sets\n",
    "print(\"Evaluating K-NN classifier:\")\n",
    "test_err = evaluate_performance(model, x_test, y_test)\n",
    "print('test misclassification percentage = {}%'.format(test_err))"
   ]
  }
 ],
 "metadata": {
  "kernelspec": {
   "display_name": "Python 3",
   "language": "python",
   "name": "python3"
  },
  "language_info": {
   "codemirror_mode": {
    "name": "ipython",
    "version": 3
   },
   "file_extension": ".py",
   "mimetype": "text/x-python",
   "name": "python",
   "nbconvert_exporter": "python",
   "pygments_lexer": "ipython3",
   "version": "3.6.9"
  }
 },
 "nbformat": 4,
 "nbformat_minor": 2
}
